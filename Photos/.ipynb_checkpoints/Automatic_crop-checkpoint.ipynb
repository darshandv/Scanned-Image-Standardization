{
 "cells": [
  {
   "cell_type": "code",
   "execution_count": 70,
   "metadata": {
    "collapsed": false
   },
   "outputs": [
    {
     "name": "stdout",
     "output_type": "stream",
     "text": [
      "0.0003132820129394531 s\n"
     ]
    }
   ],
   "source": [
    "import time\n",
    "start = time.time()\n",
    "import cv2\n",
    "import numpy as np\n",
    "import matplotlib.pyplot as plt\n",
    "import sys\n",
    "import os\n",
    "import glob\n",
    "print(time.time()-start,'s')"
   ]
  },
  {
   "cell_type": "markdown",
   "metadata": {},
   "source": [
    "### Algorithm 1"
   ]
  },
  {
   "cell_type": "code",
   "execution_count": 71,
   "metadata": {
    "collapsed": true
   },
   "outputs": [],
   "source": [
    "\n",
    "# image = cv2.imread('Photos/photo5.jpg')\n",
    "# gray = cv2.cvtColor(image,cv2.COLOR_BGR2GRAY)\n",
    "# height, width = gray.shape\n",
    "# print(height,width)\n",
    "# plt.imshow(image)\n",
    "\n",
    "# #4 different methods to find the 4 lines of the outer box\n",
    "# k=1;\n",
    "# threshold = 120\n",
    "# mark = int(width/4)\n",
    "# min = mark;\n",
    "# left=[]\n",
    "# right=[]\n",
    "# top=[]\n",
    "# bottom=[]\n",
    "# check_top=0\n",
    "# for i in range(height):\n",
    "#     check=0\n",
    "#     for j in range(width):\n",
    "#         if gray[i][j]<threshold:\n",
    "#             if j<min:\n",
    "#                 min=j\n",
    "#             if j<min+50:\n",
    "#                 left.append(j)\n",
    "#             else :\n",
    "#                 left.append(min)\n",
    "#             check=1\n",
    "#             break;\n",
    "#     if not check:\n",
    "#         left.append(min)\n",
    "# for i in range(len(left)):\n",
    "#     if left[i]!= mark:\n",
    "#         top_l_x=left[i]\n",
    "#         top_l_y=i\n",
    "#         break\n",
    "#     left[i]=min\n",
    "    \n",
    "# mark = int(3*width/4)\n",
    "# max = mark\n",
    "# check_top=0\n",
    "# for i in range(height):\n",
    "#     check=0\n",
    "#     for j in range(width):\n",
    "#         if gray[-i][-j]<threshold:\n",
    "#             if j>max:\n",
    "#                 max=j\n",
    "#             if j>max-50:\n",
    "#                 right.append(j)\n",
    "#             else :\n",
    "#                 right.append(max)\n",
    "#             check=1\n",
    "#             break;\n",
    "#     if not check:\n",
    "#         right.append(max)\n",
    "# for i in range(len(right)):\n",
    "#     if right[i]!= mark:\n",
    "#         top_r_x=right[i]\n",
    "#         top_r_y=i\n",
    "#         break\n",
    "# for i in range(len(right)):\n",
    "#     if right[i]== mark:\n",
    "#         right[i]= top_r_x\n",
    "# mark = int(width/4)\n",
    "# for i in range(len(left)):\n",
    "#     if left[i]== mark:\n",
    "#         left[i]=top_l_x\n",
    "\n",
    "\n",
    "# mark = int(height/5)\n",
    "# min_t = mark\n",
    "# for i in range(top_l_y-10,top_r_y+10):\n",
    "#     check=0\n",
    "#     for j in range(min-1,max+1):\n",
    "#         if gray[i][j]<threshold:\n",
    "#             if i<min_t:\n",
    "#                 min_t = i\n",
    "#             if i<min_t+50:\n",
    "#                 top.append(i)\n",
    "#             else :\n",
    "#                 top.append(min_t)\n",
    "#             check=1\n",
    "#             break;\n",
    "#     if not check:\n",
    "#         top.append(min_t)\n",
    "\n",
    "# for i in range(1,len(left)):\n",
    "#     if left[-i]!= left[-1]:\n",
    "#         top_t_x=left[-i+1]\n",
    "#         top_t_y=height-i+1\n",
    "#         break\n",
    "# for i in range(1,len(right)):\n",
    "#     if right[-i]!= right[-1]:\n",
    "#         top_b_x=right[-i+1]\n",
    "#         top_b_y=height-i+1\n",
    "#         break\n",
    "\n",
    "# mark = int(4*height/5)\n",
    "# max_t = mark\n",
    "# check_top=0\n",
    "# for i in range(top_t_y-5,top_t_y+5):\n",
    "#     check=0\n",
    "#     for j in range(min-1,max+1):\n",
    "#         if gray[i][j]<threshold:\n",
    "#             if i<min_t:\n",
    "#                 min_t = i\n",
    "#             if i<min_t+50:\n",
    "#                 top.append(i)\n",
    "#             else :\n",
    "#                 top.append(min_t)\n",
    "#             check=1\n",
    "#             break;\n",
    "#     if not check:\n",
    "#         top.append(min_t)\n",
    "# # ret,thresh = cv2.threshold(gray,180,255,cv2.THRESH_BINARY)\n",
    "# # plt.imshow(thresh)\n",
    "# cv2.imwrite( \"Gray_image.jpg\", gray );\n",
    "# print(\"Left average \",sum(left)/len(left))\n",
    "# print(\"Right average \",sum(right)/len(right))\n",
    "# print(\"The 4 outer points :\")\n",
    "# print(top_l_x,top_l_y)\n",
    "# print(top_r_x,top_r_y)\n",
    "# print(top_t_x,top_t_y)\n",
    "# print(top_b_x,top_b_y)\n",
    "# length = int(sum(right)/len(right))-int(sum(left)/len(left))+10\n",
    "\n",
    "# #Extracting the rows parallel to the identified line\n",
    "# l=left[top_l_y-10]-5\n",
    "# r=right[top_l_y-10]+5\n",
    "# mid = (r-l)/2\n",
    "# temp=gray[top_l_y-10,int(l+mid-length/2):int(r-mid+length/2)+5]\n",
    "# crop=np.array(temp).reshape(1,int(r-mid+length/2)-int(l+mid-length/2)+5)\n",
    "# print(\"Crop Shape :\" ,crop.shape)\n",
    "\n",
    "# k=0\n",
    "# value=int(r-mid+length/2)-int(l+mid-length/2)+5\n",
    "# for i in range(top_l_y-9,top_t_y+20):\n",
    "#     #for j in range(left[i]-10,right[i]+10)\n",
    "#     l=left[i]-5\n",
    "#     r=right[i]+5\n",
    "#     mid = (r-l)/2\n",
    "#     #print(i,temp.shape)\n",
    "#     temp = gray[i,int(l+mid-length/2):int(l+mid-length/2)+value]\n",
    "#     crop=np.append(crop,[temp.tolist()],axis=0)\n",
    "#     k=k+1\n",
    "# cv2.imwrite(\"Out.jpg\",crop)\n",
    "# time.time()-start"
   ]
  },
  {
   "cell_type": "markdown",
   "metadata": {},
   "source": [
    "### Algorithm 2"
   ]
  },
  {
   "cell_type": "code",
   "execution_count": 72,
   "metadata": {
    "collapsed": true
   },
   "outputs": [],
   "source": [
    "def order_points(pts):\n",
    "\n",
    "    rect = np.zeros((4, 2), dtype = \"float32\")\n",
    " \n",
    "\n",
    "    s = pts.sum(axis = 1)\n",
    "#     print(s)\n",
    "#     print(pts)\n",
    "    rect[0] = pts[np.argmin(s)]\n",
    "    rect[2] = pts[np.argmax(s)]\n",
    " \n",
    "\n",
    "    diff = np.diff(pts, axis = 1)\n",
    "    rect[1] = pts[np.argmin(diff)]\n",
    "    rect[3] = pts[np.argmax(diff)]\n",
    " \n",
    "    return rect"
   ]
  },
  {
   "cell_type": "code",
   "execution_count": 73,
   "metadata": {
    "collapsed": true
   },
   "outputs": [],
   "source": [
    "def four_point_transform(image, pts):\n",
    "\n",
    "    rect = order_points(pts)\n",
    "    (tl, tr, br, bl) = rect\n",
    "\n",
    "    widthA = np.sqrt(((br[0] - bl[0]) ** 2) + ((br[1] - bl[1]) ** 2))\n",
    "    widthB = np.sqrt(((tr[0] - tl[0]) ** 2) + ((tr[1] - tl[1]) ** 2))\n",
    "    maxWidth = max(int(widthA), int(widthB))\n",
    "\n",
    "    heightA = np.sqrt(((tr[0] - br[0]) ** 2) + ((tr[1] - br[1]) ** 2))\n",
    "    heightB = np.sqrt(((tl[0] - bl[0]) ** 2) + ((tl[1] - bl[1]) ** 2))\n",
    "    maxHeight = max(int(heightA), int(heightB))\n",
    "\n",
    "    dst = np.array([\n",
    "              [0, 0],\n",
    "              [maxWidth - 1, 0],\n",
    "              [maxWidth - 1, maxHeight - 1],\n",
    "              [0, maxHeight - 1]], dtype = \"float32\")\n",
    "\n",
    "    M = cv2.getPerspectiveTransform(rect, dst)\n",
    "    warped = cv2.warpPerspective(image, M, (maxWidth, maxHeight))\n",
    " \n",
    "    return warped"
   ]
  },
  {
   "cell_type": "code",
   "execution_count": 74,
   "metadata": {
    "collapsed": true
   },
   "outputs": [],
   "source": [
    "def cont(img, gray, user_thresh, crop, filename):\n",
    "    found = False\n",
    "    cwd = os.getcwd() + '/crop/'\n",
    "    orig_thresh = user_thresh\n",
    "    im_h, im_w = img.shape[:2]\n",
    "    while found == False: # repeat to find the right threshold value for finding a rectangle\n",
    "        if user_thresh < 200:\n",
    "            user_thresh = orig_thresh + 5\n",
    "            orig_thresh = user_thresh \n",
    "        print(user_thresh)\n",
    "        ret,thresh = cv2.threshold(gray,user_thresh,255,cv2.THRESH_BINARY)\n",
    "        _,contours,hierarchy = cv2.findContours(thresh, cv2.RETR_LIST, cv2.CHAIN_APPROX_NONE)\n",
    "        im_area = im_w * im_h\n",
    "        for cnt in contours:         \n",
    "            area = cv2.contourArea(cnt)\n",
    "            if area > (im_area/6) and area < (im_area/1.01):\n",
    "                epsilon = 0.1*cv2.arcLength(cnt,True)\n",
    "                approx = cv2.approxPolyDP(cnt,epsilon,True)\n",
    "                if len(approx) == 4:\n",
    "                    found = True\n",
    "                else:\n",
    "                    user_thresh = user_thresh - 1\n",
    "                    break                \n",
    "                rect = np.zeros((4, 2), dtype = \"float32\")\n",
    "                rect[0] = approx[0]\n",
    "                rect[1] = approx[1]\n",
    "                rect[2] = approx[2]\n",
    "                rect[3] = approx[3]\n",
    "                \n",
    "                dst = four_point_transform(img, rect)\n",
    "                dst_h, dst_w = dst.shape[:2]\n",
    "                img = dst[crop:dst_h-crop, crop:dst_w-crop]\n",
    "                dst_h, dst_w = img.shape[:2]\n",
    "                print(\"Saving to \"+cwd+\"crop_\"+filename)\n",
    "                cv2.imwrite(cwd+\"crop_\"+filename, img, [int(cv2.IMWRITE_JPEG_QUALITY), 100])\n",
    "                #res = cv2.resize(img,(dst_w/6, dst_h/6), interpolation = cv2.INTER_CUBIC)\n",
    "          \n",
    "    return found, im_w, im_h, img"
   ]
  },
  {
   "cell_type": "code",
   "execution_count": 75,
   "metadata": {
    "collapsed": true
   },
   "outputs": [],
   "source": [
    "def main(thresh, crop, filename):\n",
    "    img = cv2.imread(filename)\n",
    "    print(\"Opening: \"+filename)\n",
    "\n",
    "    #add white background (in case one side is cropped right already, otherwise script would fail finding contours)\n",
    "    #img = cv2.copyMakeBorder(img,100,100,100,100, cv2.BORDER_CONSTANT,value=[255,255,255])\n",
    "    im_h, im_w = img.shape[:2]\n",
    "    gray = cv2.cvtColor(img,cv2.COLOR_BGR2GRAY)\n",
    "    res_gray = cv2.resize(img,(int(im_w/6), int(im_h/6)), interpolation = cv2.INTER_CUBIC)\n",
    "    found, im_w, im_h, image = cont(img, gray, thresh, crop, filename)\n",
    "    return image"
   ]
  },
  {
   "cell_type": "code",
   "execution_count": 76,
   "metadata": {
    "collapsed": false
   },
   "outputs": [
    {
     "name": "stdout",
     "output_type": "stream",
     "text": [
      "Opening: photo12.jpg\n",
      "171\n",
      "Saving to /home/darshan/CS/Summer2018/Impel/Standardization/Darshan/Photos/crop/crop_photo12.jpg\n",
      "(918, 632, 3)\n"
     ]
    }
   ],
   "source": [
    "os.system(\"mkdir crop\")\n",
    "thresh = 166\n",
    "crop = 15\n",
    "files = []\n",
    "types = ('*.bmp','*.BMP','*.tiff','*.TIFF','*.tif','*.TIF','*.jpg', '*.JPG','*.JPEG', '*.jpeg', '*.png', '*.PNG', ) #all should work but only .jpg was tested\n",
    "for t in types:\n",
    "    if glob.glob(t) != []:\n",
    "        files.append(glob.glob(t))\n",
    "# for f in files[0]:\n",
    "img1 = main(thresh, crop, 'photo12.jpg')\n",
    "print(img1.shape)"
   ]
  },
  {
   "cell_type": "code",
   "execution_count": null,
   "metadata": {
    "collapsed": true
   },
   "outputs": [],
   "source": []
  },
  {
   "cell_type": "markdown",
   "metadata": {
    "collapsed": false
   },
   "source": [
    "### Extraction"
   ]
  },
  {
   "cell_type": "markdown",
   "metadata": {},
   "source": [
    "#### Approach 1"
   ]
  },
  {
   "cell_type": "code",
   "execution_count": 77,
   "metadata": {
    "collapsed": false
   },
   "outputs": [
    {
     "name": "stdout",
     "output_type": "stream",
     "text": [
      "918 632\n",
      "316 1280\n"
     ]
    }
   ],
   "source": [
    "crop = cv2.imread('column.jpg')\n",
    "gray_main = cv2.cvtColor(img1,cv2.COLOR_BGR2GRAY)\n",
    "gray_crop = cv2.cvtColor(crop,cv2.COLOR_BGR2GRAY)\n",
    "height_main, width_main = gray_main.shape\n",
    "height_crop, width_crop = gray_crop.shape\n",
    "height = height_main\n",
    "width = width_main\n",
    "print(height_main, width_main)\n",
    "print(height_crop, width_crop)\n",
    "#cv2.imwrite('Out.jpg',gray_main)"
   ]
  },
  {
   "cell_type": "code",
   "execution_count": 78,
   "metadata": {
    "collapsed": false
   },
   "outputs": [],
   "source": [
    "#Trying feature matching using ORB\n",
    "orb = cv2.ORB_create()\n",
    "mask = np.zeros(gray_main.shape[:2], dtype=np.uint8)\n",
    "cv2.rectangle(mask, (int(width/10),int(18*height/25)),(int(15*width/16),int(13*height/14)), (255), thickness = -1)\n",
    "# find the keypoints and descriptors with SIFT\n",
    "kp1, des1 = orb.detectAndCompute(gray_main,mask)\n",
    "kp2, des2 = orb.detectAndCompute(gray_crop,None)\n"
   ]
  },
  {
   "cell_type": "code",
   "execution_count": 79,
   "metadata": {
    "collapsed": false
   },
   "outputs": [
    {
     "data": {
      "text/plain": [
       "True"
      ]
     },
     "execution_count": 79,
     "metadata": {},
     "output_type": "execute_result"
    }
   ],
   "source": [
    "bf = cv2.BFMatcher(cv2.NORM_HAMMING, crossCheck=True)\n",
    "\n",
    "matches = bf.match(des1,des2)\n",
    "\n",
    "matches = sorted(matches, key = lambda x:x.distance)\n",
    "\n",
    "img = cv2.drawMatches(gray_main,kp1,gray_crop,kp2,matches,None, flags=2)\n",
    "\n",
    "cv2.imwrite('Out1.jpg',img)"
   ]
  },
  {
   "cell_type": "code",
   "execution_count": 80,
   "metadata": {
    "collapsed": true
   },
   "outputs": [],
   "source": [
    "src_pts = np.float32([ kp1[m.queryIdx].pt for m in matches ])\n",
    "points = src_pts"
   ]
  },
  {
   "cell_type": "code",
   "execution_count": 81,
   "metadata": {
    "collapsed": true
   },
   "outputs": [],
   "source": [
    "def get_outer_points(pts):\n",
    "\n",
    "    rect = np.zeros((4, 2), dtype = \"float32\")\n",
    " \n",
    "    min_x = min(pts[:,0])\n",
    "    min_y = min(pts[:,1])\n",
    "    max_x = max(pts[:,0])\n",
    "    max_y = max(pts[:,1])\n",
    "    #s = pts.sum(axis = 1)\n",
    "    #print(s)\n",
    "    rect[0][0] = min_x\n",
    "    rect[0][1] = min_y\n",
    "    rect[2][0] = max_x\n",
    "    rect[2][1] = max_y\n",
    " \n",
    "\n",
    "    #diff = np.diff(pts, axis = 1)\n",
    "    #print(diff)\n",
    "    rect[1][0] = max_x\n",
    "    rect[1][1] = min_y\n",
    "    rect[3][0] = min_x\n",
    "    rect[3][1] = max_y\n",
    " \n",
    "    return rect"
   ]
  },
  {
   "cell_type": "code",
   "execution_count": 82,
   "metadata": {
    "collapsed": true
   },
   "outputs": [],
   "source": [
    "def four_point_transform(image, pts):\n",
    "\n",
    "    rect = get_outer_points(pts)\n",
    "    (tl, tr, br, bl) = rect\n",
    "    print(rect)\n",
    "\n",
    "    widthA = np.sqrt(((br[0] - bl[0]) ** 2) + ((br[1] - bl[1]) ** 2))\n",
    "    widthB = np.sqrt(((tr[0] - tl[0]) ** 2) + ((tr[1] - tl[1]) ** 2))\n",
    "    maxWidth = max(int(widthA), int(widthB))\n",
    "\n",
    "    heightA = np.sqrt(((tr[0] - br[0]) ** 2) + ((tr[1] - br[1]) ** 2))\n",
    "    heightB = np.sqrt(((tl[0] - bl[0]) ** 2) + ((tl[1] - bl[1]) ** 2))\n",
    "    maxHeight = max(int(heightA), int(heightB))\n",
    "\n",
    "    dst = np.array([\n",
    "              [0, 0],\n",
    "              [maxWidth - 1, 0],\n",
    "              [maxWidth - 1, maxHeight - 1],\n",
    "              [0, maxHeight - 1]], dtype = \"float32\")\n",
    "\n",
    "    M = cv2.getPerspectiveTransform(rect, dst)\n",
    "    warped = cv2.warpPerspective(image, M, (maxWidth, maxHeight))\n",
    "    cv2.imwrite('Out.jpg',warped)\n",
    " \n",
    "    return warped"
   ]
  },
  {
   "cell_type": "code",
   "execution_count": 83,
   "metadata": {
    "collapsed": false
   },
   "outputs": [
    {
     "name": "stdout",
     "output_type": "stream",
     "text": [
      "[[ 170.20114136  666.        ]\n",
      " [ 579.          666.        ]\n",
      " [ 579.          813.60003662]\n",
      " [ 170.20114136  813.60003662]]\n"
     ]
    },
    {
     "data": {
      "text/plain": [
       "True"
      ]
     },
     "execution_count": 83,
     "metadata": {},
     "output_type": "execute_result"
    }
   ],
   "source": [
    "crop = 0\n",
    "dst = four_point_transform(gray_main, points)\n",
    "dst_h, dst_w = dst.shape[:2]\n",
    "img = dst[crop:dst_h-crop, crop:dst_w-crop]\n",
    "dst_h, dst_w = img.shape[:2]\n",
    "cv2.imwrite('Out1.jpg',img)"
   ]
  },
  {
   "cell_type": "code",
   "execution_count": 84,
   "metadata": {
    "collapsed": false
   },
   "outputs": [
    {
     "data": {
      "text/plain": [
       "3.8817102909088135"
      ]
     },
     "execution_count": 84,
     "metadata": {},
     "output_type": "execute_result"
    }
   ],
   "source": [
    "time.time()-start"
   ]
  },
  {
   "cell_type": "code",
   "execution_count": 85,
   "metadata": {
    "collapsed": false
   },
   "outputs": [
    {
     "data": {
      "text/plain": [
       "(117, 378)"
      ]
     },
     "execution_count": 85,
     "metadata": {},
     "output_type": "execute_result"
    }
   ],
   "source": [
    "image.shape"
   ]
  },
  {
   "cell_type": "markdown",
   "metadata": {},
   "source": [
    "#### Approach 2"
   ]
  },
  {
   "cell_type": "code",
   "execution_count": 86,
   "metadata": {
    "collapsed": false
   },
   "outputs": [
    {
     "name": "stdout",
     "output_type": "stream",
     "text": [
      "918 632\n",
      "316 1280\n"
     ]
    }
   ],
   "source": [
    "crop = cv2.imread('column.jpg')\n",
    "gray_main = cv2.cvtColor(img1,cv2.COLOR_BGR2GRAY)\n",
    "gray_crop = cv2.cvtColor(crop,cv2.COLOR_BGR2GRAY)\n",
    "height_main, width_main = gray_main.shape\n",
    "height_crop, width_crop = gray_crop.shape\n",
    "height = height_main\n",
    "width = width_main\n",
    "print(height_main, width_main)\n",
    "print(height_crop, width_crop)\n",
    "#cv2.imwrite('Out.jpg',gray_main)"
   ]
  },
  {
   "cell_type": "code",
   "execution_count": null,
   "metadata": {
    "collapsed": true
   },
   "outputs": [],
   "source": []
  }
 ],
 "metadata": {
  "anaconda-cloud": {},
  "kernelspec": {
   "display_name": "Python [default]",
   "language": "python",
   "name": "python3"
  },
  "language_info": {
   "codemirror_mode": {
    "name": "ipython",
    "version": 3
   },
   "file_extension": ".py",
   "mimetype": "text/x-python",
   "name": "python",
   "nbconvert_exporter": "python",
   "pygments_lexer": "ipython3",
   "version": "3.5.4"
  }
 },
 "nbformat": 4,
 "nbformat_minor": 1
}
