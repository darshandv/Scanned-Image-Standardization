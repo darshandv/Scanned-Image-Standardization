{
 "cells": [
  {
   "cell_type": "code",
   "execution_count": 213,
   "metadata": {
    "collapsed": true
   },
   "outputs": [],
   "source": [
    "import numpy as np\n",
    "import cv2\n",
    "import matplotlib.pyplot as plt"
   ]
  },
  {
   "cell_type": "code",
   "execution_count": 214,
   "metadata": {
    "collapsed": true
   },
   "outputs": [],
   "source": [
    "image = cv2.imread('branch.jpg')"
   ]
  },
  {
   "cell_type": "code",
   "execution_count": 215,
   "metadata": {
    "collapsed": true
   },
   "outputs": [],
   "source": [
    "gray = cv2.cvtColor(image,cv2.COLOR_BGR2GRAY)"
   ]
  },
  {
   "cell_type": "code",
   "execution_count": 216,
   "metadata": {
    "collapsed": false
   },
   "outputs": [
    {
     "data": {
      "image/png": "[encoded data removed]",
      "text/plain": [
       "<matplotlib.figure.Figure at 0x7f4a6fec74a8>"
      ]
     },
     "metadata": {},
     "output_type": "display_data"
    }
   ],
   "source": [
    "# thresh = cv2.adaptiveThreshold(gray,255,cv2.ADAPTIVE_THRESH_GAUSSIAN_C,cv2.THRESH_BINARY,11,2)\n",
    "RET,thresh = cv2.threshold(gray, 0,255, cv2.THRESH_BINARY + cv2.THRESH_OTSU)\n",
    "kernel = np.ones((3,3),np.uint8)\n",
    "img = cv2.morphologyEx(thresh,cv2.MORPH_CLOSE,kernel)\n",
    "img = cv2.morphologyEx(img,cv2.MORPH_OPEN,kernel)\n",
    "reverse = cv2.bitwise_not(img)\n",
    "#img = cv2.morphologyEx(img,cv2.MORPH_OPEN,kernel)\n",
    "cv2.imwrite('Out.jpg',reverse)\n",
    "plt.imshow(reverse,cmap='gray')\n",
    "plt.show()"
   ]
  },
  {
   "cell_type": "code",
   "execution_count": 217,
   "metadata": {
    "collapsed": false
   },
   "outputs": [],
   "source": [
    "# crop = reverse[:,reverse.sum(axis=0)>10]"
   ]
  },
  {
   "cell_type": "code",
   "execution_count": 225,
   "metadata": {
    "collapsed": false
   },
   "outputs": [
    {
     "data": {
      "text/plain": [
       "array([[0, 0, 0, ..., 0, 0, 0],\n",
       "       [0, 0, 0, ..., 0, 0, 0],\n",
       "       [0, 0, 0, ..., 0, 0, 0],\n",
       "       ..., \n",
       "       [0, 0, 0, ..., 0, 0, 0],\n",
       "       [0, 0, 0, ..., 0, 0, 0],\n",
       "       [0, 0, 0, ..., 0, 0, 0]], dtype=uint8)"
      ]
     },
     "execution_count": 225,
     "metadata": {},
     "output_type": "execute_result"
    }
   ],
   "source": [
    "reverse"
   ]
  },
  {
   "cell_type": "code",
   "execution_count": 243,
   "metadata": {
    "collapsed": false
   },
   "outputs": [
    {
     "name": "stdout",
     "output_type": "stream",
     "text": [
      "401115.0\n",
      "1497615.0\n",
      "1184475.0\n",
      "637500.0\n",
      "750720.0\n",
      "611745.0\n",
      "1676115.0\n",
      "503880.0\n",
      "589050.0\n",
      "3480495.0\n"
     ]
    }
   ],
   "source": [
    "maximum = max(reverse.sum(axis=1))\n",
    "cropped = reverse[reverse.sum(axis=1)!=maximum,:]\n",
    "temp = np.empty([cropped.shape[0],0])\n",
    "threshold = 550\n",
    "pixelSum = 255*100\n",
    "images = []\n",
    "for i in range(cropped.shape[1]):\n",
    "    if cropped.sum(axis=0)[i]<threshold :\n",
    "        if not temp.size:\n",
    "            continue\n",
    "        else :\n",
    "            if temp.sum()> pixelSum :\n",
    "                RET,temp = cv2.threshold(temp, 0,255, cv2.THRESH_BINARY_INV)\n",
    "                # temp = cv2.bitwise_not(temp)\n",
    "                print(temp.sum())\n",
    "                images.append(temp)\n",
    "            temp = np.empty([cropped.shape[0],0])\n",
    "    else :\n",
    "        temp=np.insert(temp,temp.shape[1],cropped[:,i],axis=1)"
   ]
  },
  {
   "cell_type": "code",
   "execution_count": 244,
   "metadata": {
    "collapsed": false
   },
   "outputs": [
    {
     "name": "stdout",
     "output_type": "stream",
     "text": [
      "0.0\n"
     ]
    },
    {
     "data": {
      "image/png": "[encoded data removed]",
      "text/plain": [
       "<matplotlib.figure.Figure at 0x7f4a6f8ab0b8>"
      ]
     },
     "metadata": {},
     "output_type": "display_data"
    },
    {
     "data": {
      "image/png": "[encoded data removed]",
      "text/plain": [
       "<matplotlib.figure.Figure at 0x7f4a7184ec18>"
      ]
     },
     "metadata": {},
     "output_type": "display_data"
    },
    {
     "data": {
      "image/png": "[encoded data removed]",
      "text/plain": [
       "<matplotlib.figure.Figure at 0x7f4a717b4710>"
      ]
     },
     "metadata": {},
     "output_type": "display_data"
    },
    {
     "data": {
      "image/png": "[encoded data removed]",
      "text/plain": [
       "<matplotlib.figure.Figure at 0x7f4a6ff894a8>"
      ]
     },
     "metadata": {},
     "output_type": "display_data"
    },
    {
     "data": {
      "image/png": "[encoded data removed]",
      "text/plain": [
       "<matplotlib.figure.Figure at 0x7f4a6f763940>"
      ]
     },
     "metadata": {},
     "output_type": "display_data"
    },
    {
     "data": {
      "image/png": "[encoded data removed]",
      "text/plain": [
       "<matplotlib.figure.Figure at 0x7f4a6fabfeb8>"
      ]
     },
     "metadata": {},
     "output_type": "display_data"
    },
    {
     "data": {
      "image/png": "[encoded data removed]",
      "text/plain": [
       "<matplotlib.figure.Figure at 0x7f4a6fc92f60>"
      ]
     },
     "metadata": {},
     "output_type": "display_data"
    },
    {
     "data": {
      "image/png": "[encoded data removed]",
      "text/plain": [
       "<matplotlib.figure.Figure at 0x7f4a6fc786d8>"
      ]
     },
     "metadata": {},
     "output_type": "display_data"
    },
    {
     "data": {
      "image/png": "[encoded data removed]",
      "text/plain": [
       "<matplotlib.figure.Figure at 0x7f4a6f8b39b0>"
      ]
     },
     "metadata": {},
     "output_type": "display_data"
    },
    {
     "data": {
      "image/png": "[encoded data removed]",
      "text/plain": [
       "<matplotlib.figure.Figure at 0x7f4a71904048>"
      ]
     },
     "metadata": {},
     "output_type": "display_data"
    }
   ],
   "source": [
    "print(temp.sum())\n",
    "for i in images:\n",
    "    plt.imshow(i,cmap='gray')\n",
    "    plt.show()"
   ]
  },
  {
   "cell_type": "code",
   "execution_count": 245,
   "metadata": {
    "collapsed": false
   },
   "outputs": [
    {
     "data": {
      "text/plain": [
       "[array([[ 255.,  255.,  255., ...,  255.,  255.,  255.],\n",
       "        [ 255.,  255.,  255., ...,  255.,  255.,  255.],\n",
       "        [ 255.,  255.,  255., ...,  255.,  255.,  255.],\n",
       "        ..., \n",
       "        [ 255.,  255.,  255., ...,    0.,    0.,    0.],\n",
       "        [ 255.,  255.,  255., ...,    0.,    0.,    0.],\n",
       "        [ 255.,  255.,  255., ...,    0.,    0.,    0.]]),\n",
       " array([[ 255.,  255.,  255., ...,  255.,  255.,  255.],\n",
       "        [ 255.,  255.,  255., ...,  255.,  255.,  255.],\n",
       "        [ 255.,  255.,  255., ...,  255.,  255.,  255.],\n",
       "        ..., \n",
       "        [ 255.,  255.,  255., ...,  255.,  255.,  255.],\n",
       "        [ 255.,  255.,  255., ...,  255.,  255.,  255.],\n",
       "        [ 255.,  255.,  255., ...,  255.,  255.,  255.]]),\n",
       " array([[ 255.,  255.,  255., ...,  255.,  255.,  255.],\n",
       "        [ 255.,  255.,  255., ...,  255.,  255.,  255.],\n",
       "        [ 255.,  255.,  255., ...,  255.,  255.,  255.],\n",
       "        ..., \n",
       "        [ 255.,  255.,  255., ...,  255.,  255.,  255.],\n",
       "        [ 255.,  255.,  255., ...,  255.,  255.,  255.],\n",
       "        [ 255.,  255.,  255., ...,  255.,  255.,  255.]]),\n",
       " array([[ 255.,  255.,  255., ...,  255.,  255.,  255.],\n",
       "        [ 255.,  255.,  255., ...,  255.,  255.,  255.],\n",
       "        [ 255.,  255.,  255., ...,  255.,  255.,  255.],\n",
       "        ..., \n",
       "        [ 255.,  255.,  255., ...,  255.,  255.,  255.],\n",
       "        [ 255.,  255.,  255., ...,  255.,  255.,  255.],\n",
       "        [ 255.,  255.,  255., ...,  255.,  255.,  255.]]),\n",
       " array([[ 255.,  255.,  255., ...,  255.,  255.,  255.],\n",
       "        [ 255.,  255.,  255., ...,  255.,  255.,  255.],\n",
       "        [ 255.,  255.,  255., ...,  255.,  255.,  255.],\n",
       "        ..., \n",
       "        [ 255.,  255.,  255., ...,  255.,  255.,  255.],\n",
       "        [ 255.,  255.,  255., ...,  255.,  255.,  255.],\n",
       "        [ 255.,  255.,  255., ...,  255.,  255.,  255.]]),\n",
       " array([[ 255.,  255.,  255., ...,  255.,  255.,  255.],\n",
       "        [ 255.,  255.,  255., ...,  255.,  255.,  255.],\n",
       "        [ 255.,  255.,  255., ...,  255.,  255.,  255.],\n",
       "        ..., \n",
       "        [ 255.,  255.,  255., ...,  255.,  255.,  255.],\n",
       "        [ 255.,  255.,  255., ...,  255.,  255.,  255.],\n",
       "        [ 255.,  255.,  255., ...,  255.,  255.,  255.]]),\n",
       " array([[ 255.,  255.,  255., ...,  255.,  255.,  255.],\n",
       "        [ 255.,  255.,  255., ...,  255.,  255.,  255.],\n",
       "        [ 255.,  255.,  255., ...,  255.,  255.,  255.],\n",
       "        ..., \n",
       "        [ 255.,  255.,  255., ...,  255.,  255.,  255.],\n",
       "        [ 255.,  255.,  255., ...,  255.,  255.,  255.],\n",
       "        [ 255.,  255.,  255., ...,  255.,  255.,  255.]]),\n",
       " array([[ 255.,  255.,  255., ...,  255.,  255.,  255.],\n",
       "        [ 255.,  255.,  255., ...,  255.,  255.,  255.],\n",
       "        [ 255.,  255.,  255., ...,  255.,  255.,  255.],\n",
       "        ..., \n",
       "        [ 255.,  255.,  255., ...,  255.,  255.,  255.],\n",
       "        [ 255.,  255.,  255., ...,  255.,  255.,  255.],\n",
       "        [ 255.,  255.,  255., ...,  255.,  255.,  255.]]),\n",
       " array([[ 255.,  255.,  255., ...,  255.,  255.,  255.],\n",
       "        [ 255.,  255.,  255., ...,  255.,  255.,  255.],\n",
       "        [ 255.,  255.,  255., ...,  255.,  255.,  255.],\n",
       "        ..., \n",
       "        [ 255.,  255.,  255., ...,  255.,  255.,  255.],\n",
       "        [ 255.,  255.,  255., ...,  255.,  255.,  255.],\n",
       "        [ 255.,  255.,  255., ...,  255.,  255.,  255.]]),\n",
       " array([[ 255.,  255.,  255., ...,  255.,  255.,  255.],\n",
       "        [ 255.,  255.,  255., ...,  255.,  255.,  255.],\n",
       "        [ 255.,  255.,  255., ...,  255.,  255.,  255.],\n",
       "        ..., \n",
       "        [ 255.,  255.,  255., ...,  255.,  255.,  255.],\n",
       "        [ 255.,  255.,  255., ...,  255.,  255.,  255.],\n",
       "        [ 255.,  255.,  255., ...,  255.,  255.,  255.]])]"
      ]
     },
     "execution_count": 245,
     "metadata": {},
     "output_type": "execute_result"
    }
   ],
   "source": [
    "images"
   ]
  },
  {
   "cell_type": "code",
   "execution_count": null,
   "metadata": {
    "collapsed": true
   },
   "outputs": [],
   "source": []
  }
 ],
 "metadata": {
  "anaconda-cloud": {},
  "kernelspec": {
   "display_name": "Python [default]",
   "language": "python",
   "name": "python3"
  },
  "language_info": {
   "codemirror_mode": {
    "name": "ipython",
    "version": 3
   },
   "file_extension": ".py",
   "mimetype": "text/x-python",
   "name": "python",
   "nbconvert_exporter": "python",
   "pygments_lexer": "ipython3",
   "version": "3.5.5"
  }
 },
 "nbformat": 4,
 "nbformat_minor": 1
}
