{
 "cells": [
  {
   "cell_type": "code",
   "execution_count": 5,
   "metadata": {
    "collapsed": true
   },
   "outputs": [],
   "source": [
    "import cv2\n",
    "import numpy as np\n",
    "import sys\n",
    "import os\n",
    "import glob"
   ]
  },
  {
   "cell_type": "code",
   "execution_count": null,
   "metadata": {
    "collapsed": true
   },
   "outputs": [],
   "source": [
    "def order_points(pts):\n",
    "\n",
    "    rect = np.zeros((4, 2), dtype = \"float32\")\n",
    " \n",
    "\n",
    "    s = pts.sum(axis = 1)\n",
    "    rect[0] = pts[np.argmin(s)]\n",
    "    rect[2] = pts[np.argmax(s)]\n",
    " \n",
    "\n",
    "    diff = np.diff(pts, axis = 1)\n",
    "    rect[1] = pts[np.argmin(diff)]\n",
    "    rect[3] = pts[np.argmax(diff)]\n",
    " \n",
    "    return rect"
   ]
  },
  {
   "cell_type": "code",
   "execution_count": 6,
   "metadata": {
    "collapsed": true
   },
   "outputs": [],
   "source": [
    "def four_point_transform(image, pts):\n",
    "\n",
    "    rect = order_points(pts)\n",
    "    (tl, tr, br, bl) = rect\n",
    "\n",
    "    widthA = np.sqrt(((br[0] - bl[0]) ** 2) + ((br[1] - bl[1]) ** 2))\n",
    "    widthB = np.sqrt(((tr[0] - tl[0]) ** 2) + ((tr[1] - tl[1]) ** 2))\n",
    "    maxWidth = max(int(widthA), int(widthB))\n",
    "\n",
    "    heightA = np.sqrt(((tr[0] - br[0]) ** 2) + ((tr[1] - br[1]) ** 2))\n",
    "    heightB = np.sqrt(((tl[0] - bl[0]) ** 2) + ((tl[1] - bl[1]) ** 2))\n",
    "    maxHeight = max(int(heightA), int(heightB))\n",
    "\n",
    "    dst = np.array([\n",
    "              [0, 0],\n",
    "              [maxWidth - 1, 0],\n",
    "              [maxWidth - 1, maxHeight - 1],\n",
    "              [0, maxHeight - 1]], dtype = \"float32\")\n",
    "\n",
    "    M = cv2.getPerspectiveTransform(rect, dst)\n",
    "    warped = cv2.warpPerspective(image, M, (maxWidth, maxHeight))\n",
    " \n",
    "    return warped"
   ]
  },
  {
   "cell_type": "code",
   "execution_count": 7,
   "metadata": {
    "collapsed": true
   },
   "outputs": [],
   "source": [
    "def cont(img, gray, user_thresh, crop, filename):\n",
    "    found = False\n",
    "    cwd = os.getcwd() + '/crop/'\n",
    "    orig_thresh = user_thresh\n",
    "    im_h, im_w = img.shape[:2]\n",
    "    while found == False: # repeat to find the right threshold value for finding a rectangle\n",
    "        if user_thresh < 200:\n",
    "            user_thresh = orig_thresh + 5\n",
    "            orig_thresh = user_thresh \n",
    "            print(user_thresh)\n",
    "        ret,thresh = cv2.threshold(gray,user_thresh,255,cv2.THRESH_BINARY)\n",
    "        _,contours,hierarchy = cv2.findContours(thresh, cv2.RETR_LIST, cv2.CHAIN_APPROX_NONE)\n",
    "        im_area = im_w * im_h\n",
    "        for cnt in contours:         \n",
    "            area = cv2.contourArea(cnt)\n",
    "            if area > (im_area/6) and area < (im_area/1.01):\n",
    "                epsilon = 0.1*cv2.arcLength(cnt,True)\n",
    "                approx = cv2.approxPolyDP(cnt,epsilon,True)\n",
    "                if len(approx) == 4:\n",
    "                    found = True\n",
    "                else:\n",
    "                    user_thresh = user_thresh - 1\n",
    "                    break                \n",
    "                rect = np.zeros((4, 2), dtype = \"float32\")\n",
    "                rect[0] = approx[0]\n",
    "                rect[1] = approx[1]\n",
    "                rect[2] = approx[2]\n",
    "                rect[3] = approx[3]\n",
    "                \n",
    "                dst = four_point_transform(img, rect)\n",
    "                dst_h, dst_w = dst.shape[:2]\n",
    "                img = dst[crop:dst_h-crop, crop:dst_w-crop]\n",
    "                dst_h, dst_w = img.shape[:2]\n",
    "                print(\"Saveing to \"+cwd+\"crop_\"+filename)\n",
    "                cv2.imwrite(cwd+\"crop_\"+filename, img, [int(cv2.IMWRITE_JPEG_QUALITY), 100])\n",
    "                #res = cv2.resize(img,(dst_w/6, dst_h/6), interpolation = cv2.INTER_CUBIC)\n",
    "          \n",
    "    return found, im_w, im_h"
   ]
  },
  {
   "cell_type": "code",
   "execution_count": 8,
   "metadata": {
    "collapsed": true
   },
   "outputs": [],
   "source": [
    "def main(thresh, crop, filename):\n",
    "    img = cv2.imread(filename)\n",
    "    print(\"Opening: \"+filename)\n",
    "\n",
    "    #add white background (in case one side is cropped right already, otherwise script would fail finding contours)\n",
    "    #img = cv2.copyMakeBorder(img,100,100,100,100, cv2.BORDER_CONSTANT,value=[255,255,255])\n",
    "    im_h, im_w = img.shape[:2]\n",
    "    gray = cv2.cvtColor(img,cv2.COLOR_BGR2GRAY)\n",
    "    res_gray = cv2.resize(img,(int(im_w/6), int(im_h/6)), interpolation = cv2.INTER_CUBIC)\n",
    "    found, im_w, im_h = cont(img, gray, thresh, crop, filename)"
   ]
  },
  {
   "cell_type": "code",
   "execution_count": 10,
   "metadata": {
    "collapsed": false
   },
   "outputs": [
    {
     "name": "stdout",
     "output_type": "stream",
     "text": [
      "photo3.jpg\n",
      "photo5.jpg\n",
      "photo2.jpg\n",
      "photo4.jpg\n",
      "photo6.jpg\n",
      "photo1.jpg\n"
     ]
    }
   ],
   "source": [
    "os.system(\"mkdir crop\")\n",
    "thresh = 200\n",
    "crop = 15\n",
    "files = []\n",
    "types = ('*.bmp','*.BMP','*.tiff','*.TIFF','*.tif','*.TIF','*.jpg', '*.JPG','*.JPEG', '*.jpeg', '*.png', '*.PNG', ) #all should work but only .jpg was tested\n",
    "for t in types:\n",
    "    if glob.glob(t) != []:\n",
    "        files.append(glob.glob(t))\n",
    "for f in files[0]:\n",
    "    main(thresh, crop, f)"
   ]
  },
  {
   "cell_type": "code",
   "execution_count": null,
   "metadata": {
    "collapsed": true
   },
   "outputs": [],
   "source": []
  }
 ],
 "metadata": {
  "anaconda-cloud": {},
  "kernelspec": {
   "display_name": "Python [default]",
   "language": "python",
   "name": "python3"
  },
  "language_info": {
   "codemirror_mode": {
    "name": "ipython",
    "version": 3
   },
   "file_extension": ".py",
   "mimetype": "text/x-python",
   "name": "python",
   "nbconvert_exporter": "python",
   "pygments_lexer": "ipython3",
   "version": "3.5.4"
  }
 },
 "nbformat": 4,
 "nbformat_minor": 1
}
