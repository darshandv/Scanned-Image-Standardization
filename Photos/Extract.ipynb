{
 "cells": [
  {
   "cell_type": "code",
   "execution_count": 469,
   "metadata": {
    "collapsed": false
   },
   "outputs": [
    {
     "name": "stdout",
     "output_type": "stream",
     "text": [
      "0.0004646778106689453 s\n"
     ]
    }
   ],
   "source": [
    "import time\n",
    "start = time.time()\n",
    "import cv2\n",
    "import numpy as np\n",
    "import matplotlib.pyplot as plt\n",
    "import sys\n",
    "import os\n",
    "import glob\n",
    "print(time.time()-start,'s')"
   ]
  },
  {
   "cell_type": "markdown",
   "metadata": {},
   "source": [
    "### Algorithm 1"
   ]
  },
  {
   "cell_type": "code",
   "execution_count": 477,
   "metadata": {
    "collapsed": true
   },
   "outputs": [],
   "source": [
    "# image = cv2.imread('photo10.jpg')\n",
    "# gray = cv2.cvtColor(image,cv2.COLOR_BGR2GRAY)"
   ]
  },
  {
   "cell_type": "code",
   "execution_count": 478,
   "metadata": {
    "collapsed": false
   },
   "outputs": [
    {
     "name": "stdout",
     "output_type": "stream",
     "text": [
      "1280\n",
      "900\n"
     ]
    },
    {
     "data": {
      "text/plain": [
       "True"
      ]
     },
     "execution_count": 478,
     "metadata": {},
     "output_type": "execute_result"
    }
   ],
   "source": [
    "# height, width = gray.shape\n",
    "# print(height)\n",
    "# print(width)\n",
    "# out = cv2.rectangle(gray,(int(width/10),int(17*height/23)),(int(10*width/11),int(9*height/10)),(0,255,0),2)\n",
    "# # out = cv2.rectangle(gray,(int(width/10),int(18*height/25)),(int(15*width/16),int(13*height/14)),(0,255,0),2)\n",
    "# cv2.imwrite('Out.jpg',out)"
   ]
  },
  {
   "cell_type": "markdown",
   "metadata": {},
   "source": [
    "### Algorithm 2"
   ]
  },
  {
   "cell_type": "code",
   "execution_count": 472,
   "metadata": {
    "collapsed": false
   },
   "outputs": [
    {
     "name": "stdout",
     "output_type": "stream",
     "text": [
      "1280 900\n",
      "316 1280\n"
     ]
    }
   ],
   "source": [
    "main = cv2.imread('photo10.jpg')\n",
    "crop = cv2.imread('column.jpg')\n",
    "gray_main = cv2.cvtColor(main,cv2.COLOR_BGR2GRAY)\n",
    "gray_crop = cv2.cvtColor(crop,cv2.COLOR_BGR2GRAY)\n",
    "height_main, width_main = gray_main.shape\n",
    "height_crop, width_crop = gray_crop.shape\n",
    "height = height_main\n",
    "width = width_main\n",
    "print(height_main, width_main)\n",
    "print(height_crop, width_crop)\n",
    "test = gray_main"
   ]
  },
  {
   "cell_type": "code",
   "execution_count": 473,
   "metadata": {
    "collapsed": false
   },
   "outputs": [],
   "source": [
    "#Trying goodFeatures to Track\n",
    "# corners = cv2.goodFeaturesToTrack(gray_main,20,0.001,50)\n",
    "# corners = np.int0(corners)\n",
    "\n",
    "# for i in corners:\n",
    "#     x,y = i.ravel()\n",
    "#     cv2.circle(test,(x,y),10,0,-1)\n",
    "\n",
    "# cv2.imwrite('Out.jpg',test)"
   ]
  },
  {
   "cell_type": "markdown",
   "metadata": {},
   "source": [
    "#### Approach 1\n",
    "Better accuracy as of now."
   ]
  },
  {
   "cell_type": "code",
   "execution_count": 474,
   "metadata": {
    "collapsed": false
   },
   "outputs": [],
   "source": [
    "#Trying feature matching using ORB\n",
    "orb = cv2.ORB_create()\n",
    "\n",
    "mask = np.zeros(gray_main.shape[:2], dtype=np.uint8)\n",
    "cv2.rectangle(mask, (int(width/10),int(18*height/25)),(int(15*width/16),int(13*height/14)), (255), thickness = -1)\n",
    "# find the keypoints and descriptors with SIFT\n",
    "kp1, des1 = orb.detectAndCompute(gray_main,mask)\n",
    "kp2, des2 = orb.detectAndCompute(gray_crop,None)\n"
   ]
  },
  {
   "cell_type": "code",
   "execution_count": 476,
   "metadata": {
    "collapsed": false
   },
   "outputs": [
    {
     "data": {
      "text/plain": [
       "True"
      ]
     },
     "execution_count": 476,
     "metadata": {},
     "output_type": "execute_result"
    }
   ],
   "source": [
    "bf = cv2.BFMatcher(cv2.NORM_HAMMING, crossCheck=True)\n",
    "\n",
    "matches = bf.match(des1,des2)\n",
    "\n",
    "matches = sorted(matches, key = lambda x:x.distance)\n",
    "\n",
    "img = cv2.drawMatches(gray_main,kp1,gray_crop,kp2,matches,None, flags=2)\n",
    "\n",
    "cv2.imwrite('Out.jpg',img)"
   ]
  },
  {
   "cell_type": "markdown",
   "metadata": {},
   "source": [
    "#### Approach 2 "
   ]
  },
  {
   "cell_type": "code",
   "execution_count": 459,
   "metadata": {
    "collapsed": false
   },
   "outputs": [],
   "source": [
    "# main = cv2.imread('photo10.jpg')\n",
    "# crop = cv2.imread('column.jpg')\n",
    "# gray_main = cv2.cvtColor(main,cv2.COLOR_BGR2GRAY)\n",
    "# gray_crop = cv2.cvtColor(crop,cv2.COLOR_BGR2GRAY)\n",
    "# height_main, width_main = gray_main.shape\n",
    "# height_crop, width_crop = gray_crop.shape\n",
    "# print(height_main, width_main)\n",
    "# print(height_crop, width_crop)"
   ]
  },
  {
   "cell_type": "code",
   "execution_count": 460,
   "metadata": {
    "collapsed": false
   },
   "outputs": [],
   "source": [
    "# #Trying feature matching using SIFT\n",
    "# # Initiate SIFT detector\n",
    "# sift = cv2.xfeatures2d.SIFT_create()\n",
    "\n",
    "# mask = np.zeros(gray_main.shape[:2], dtype=np.uint8)\n",
    "# cv2.rectangle(mask, (int(width/10),int(18*height/25)),(int(15*width/16),int(13*height/14)), (255), thickness = -1)\n",
    "\n",
    "# # find the keypoints and descriptors with SIFT\n",
    "# kp1, des1 = sift.detectAndCompute(gray_main,None)\n",
    "# kp2, des2 = sift.detectAndCompute(gray_crop,None)\n",
    "\n",
    "# FLANN_INDEX_KDTREE = 0\n",
    "# index_params = dict(algorithm = FLANN_INDEX_KDTREE, trees = 5)\n",
    "# search_params = dict(checks = 50)\n",
    "\n",
    "# flann = cv2.FlannBasedMatcher(index_params, search_params)\n",
    "\n",
    "# matches = flann.knnMatch(des1,des2,k=2,mask=mask)\n",
    "\n",
    "# # store all the good matches as per Lowe's ratio test.\n",
    "# good = []\n",
    "# for m,n in matches:\n",
    "#     if m.distance < 0.8*n.distance:\n",
    "#         good.append(m)"
   ]
  },
  {
   "cell_type": "code",
   "execution_count": 461,
   "metadata": {
    "collapsed": false
   },
   "outputs": [],
   "source": [
    "# src_pts = np.float32([ kp1[m.queryIdx].pt for m in good ]).reshape(-1,1,2)\n",
    "# dst_pts = np.float32([ kp2[m.trainIdx].pt for m in good ]).reshape(-1,1,2)\n",
    "\n",
    "# M, mask = cv2.findHomography(src_pts, dst_pts, cv2.RANSAC,5.0)\n",
    "# matchesMask = mask.ravel().tolist()\n",
    "\n",
    "# h,w = gray_main.shape\n",
    "# pts = np.float32([ [0,0],[0,h-1],[w-1,h-1],[w-1,0] ]).reshape(-1,1,2)\n",
    "# dst = cv2.perspectiveTransform(pts,M)\n",
    "\n",
    "\n",
    "# img2 = cv2.polylines(gray_crop,[np.int32(dst)],True,255,3, cv2.LINE_AA)"
   ]
  },
  {
   "cell_type": "code",
   "execution_count": 462,
   "metadata": {
    "collapsed": false
   },
   "outputs": [],
   "source": [
    "# draw_params = dict(matchColor = (0,255,0), # draw matches in green color\n",
    "#                    singlePointColor = None,\n",
    "#                    matchesMask = matchesMask, # draw only inliers\n",
    "#                    flags = 2)\n",
    "\n",
    "# img3 = cv2.drawMatches(gray_main,kp1,gray_crop,kp2,good,None,**draw_params)\n",
    "# cv2.imwrite('Out.jpg',img3)"
   ]
  },
  {
   "cell_type": "code",
   "execution_count": 463,
   "metadata": {
    "collapsed": false
   },
   "outputs": [],
   "source": [
    "#points = src_pts.reshape(-1,2)\n",
    "# src_pts = np.float32([ kp1[m.queryIdx].pt for m in good ])\n",
    "src_pts = np.float32([ kp1[m.queryIdx].pt for m in matches ])\n",
    "points = src_pts"
   ]
  },
  {
   "cell_type": "code",
   "execution_count": 464,
   "metadata": {
    "collapsed": false
   },
   "outputs": [
    {
     "data": {
      "text/plain": [
       "(224, 2)"
      ]
     },
     "execution_count": 464,
     "metadata": {},
     "output_type": "execute_result"
    }
   ],
   "source": [
    "points.shape"
   ]
  },
  {
   "cell_type": "code",
   "execution_count": 2,
   "metadata": {
    "collapsed": true
   },
   "outputs": [],
   "source": [
    "def get_outer_points(pts):\n",
    "\n",
    "    rect = np.zeros((4, 2), dtype = \"float32\")\n",
    " \n",
    "    min_x = min(pts[:,0])\n",
    "    min_y = min(pts[:,1])\n",
    "    max_x = max(pts[:,0])\n",
    "    max_y = max(pts[:,1])\n",
    "    #s = pts.sum(axis = 1)\n",
    "    #print(s)\n",
    "    rect[0][0] = min_x\n",
    "    rect[0][1] = min_y\n",
    "    rect[2][0] = max_x\n",
    "    rect[2][1] = max_y\n",
    " \n",
    "\n",
    "    #diff = np.diff(pts, axis = 1)\n",
    "    #print(diff)\n",
    "    rect[1][0] = max_x\n",
    "    rect[1][1] = min_y\n",
    "    rect[3][0] = min_x\n",
    "    rect[3][1] = max_y\n",
    " \n",
    "    return rect"
   ]
  },
  {
   "cell_type": "code",
   "execution_count": 3,
   "metadata": {
    "collapsed": false
   },
   "outputs": [],
   "source": [
    "def four_point_transform(image, pts):\n",
    "\n",
    "    rect = get_outer_points(pts)\n",
    "    (tl, tr, br, bl) = rect\n",
    "    print(rect)\n",
    "\n",
    "    widthA = np.sqrt(((br[0] - bl[0]) ** 2) + ((br[1] - bl[1]) ** 2))\n",
    "    widthB = np.sqrt(((tr[0] - tl[0]) ** 2) + ((tr[1] - tl[1]) ** 2))\n",
    "    maxWidth = max(int(widthA), int(widthB))\n",
    "\n",
    "    heightA = np.sqrt(((tr[0] - br[0]) ** 2) + ((tr[1] - br[1]) ** 2))\n",
    "    heightB = np.sqrt(((tl[0] - bl[0]) ** 2) + ((tl[1] - bl[1]) ** 2))\n",
    "    maxHeight = max(int(heightA), int(heightB))\n",
    "\n",
    "    dst = np.array([\n",
    "              [0, 0],\n",
    "              [maxWidth - 1, 0],\n",
    "              [maxWidth - 1, maxHeight - 1],\n",
    "              [0, maxHeight - 1]], dtype = \"float32\")\n",
    "\n",
    "    M = cv2.getPerspectiveTransform(rect, dst)\n",
    "    warped = cv2.warpPerspective(image, M, (maxWidth, maxHeight))\n",
    "    cv2.imwrite('Out1.jpg',warped)\n",
    " \n",
    "    return warped"
   ]
  },
  {
   "cell_type": "code",
   "execution_count": 1,
   "metadata": {
    "collapsed": false
   },
   "outputs": [
    {
     "ename": "NameError",
     "evalue": "name 'four_point_transform' is not defined",
     "output_type": "error",
     "traceback": [
      "\u001b[0;31m---------------------------------------------------------------------------\u001b[0m",
      "\u001b[0;31mNameError\u001b[0m                                 Traceback (most recent call last)",
      "\u001b[0;32m<ipython-input-1-cda3b0914563>\u001b[0m in \u001b[0;36m<module>\u001b[0;34m()\u001b[0m\n\u001b[1;32m      1\u001b[0m \u001b[0mcrop\u001b[0m \u001b[0;34m=\u001b[0m \u001b[0;36m15\u001b[0m\u001b[0;34m\u001b[0m\u001b[0m\n\u001b[0;32m----> 2\u001b[0;31m \u001b[0mdst\u001b[0m \u001b[0;34m=\u001b[0m \u001b[0mfour_point_transform\u001b[0m\u001b[0;34m(\u001b[0m\u001b[0mgray_main\u001b[0m\u001b[0;34m,\u001b[0m \u001b[0mpoints\u001b[0m\u001b[0;34m)\u001b[0m\u001b[0;34m\u001b[0m\u001b[0m\n\u001b[0m\u001b[1;32m      3\u001b[0m \u001b[0mdst_h\u001b[0m\u001b[0;34m,\u001b[0m \u001b[0mdst_w\u001b[0m \u001b[0;34m=\u001b[0m \u001b[0mdst\u001b[0m\u001b[0;34m.\u001b[0m\u001b[0mshape\u001b[0m\u001b[0;34m[\u001b[0m\u001b[0;34m:\u001b[0m\u001b[0;36m2\u001b[0m\u001b[0;34m]\u001b[0m\u001b[0;34m\u001b[0m\u001b[0m\n\u001b[1;32m      4\u001b[0m \u001b[0mimg\u001b[0m \u001b[0;34m=\u001b[0m \u001b[0mdst\u001b[0m\u001b[0;34m[\u001b[0m\u001b[0mcrop\u001b[0m\u001b[0;34m:\u001b[0m\u001b[0mdst_h\u001b[0m\u001b[0;34m-\u001b[0m\u001b[0mcrop\u001b[0m\u001b[0;34m,\u001b[0m \u001b[0mcrop\u001b[0m\u001b[0;34m:\u001b[0m\u001b[0mdst_w\u001b[0m\u001b[0;34m-\u001b[0m\u001b[0mcrop\u001b[0m\u001b[0;34m]\u001b[0m\u001b[0;34m\u001b[0m\u001b[0m\n\u001b[1;32m      5\u001b[0m \u001b[0mdst_h\u001b[0m\u001b[0;34m,\u001b[0m \u001b[0mdst_w\u001b[0m \u001b[0;34m=\u001b[0m \u001b[0mimg\u001b[0m\u001b[0;34m.\u001b[0m\u001b[0mshape\u001b[0m\u001b[0;34m[\u001b[0m\u001b[0;34m:\u001b[0m\u001b[0;36m2\u001b[0m\u001b[0;34m]\u001b[0m\u001b[0;34m\u001b[0m\u001b[0m\n",
      "\u001b[0;31mNameError\u001b[0m: name 'four_point_transform' is not defined"
     ]
    }
   ],
   "source": [
    "crop = 10\n",
    "dst = four_point_transform(gray_main, points)\n",
    "dst_h, dst_w = dst.shape[:2]\n",
    "img = dst[crop:dst_h+crop, crop:dst_w+crop]\n",
    "dst_h, dst_w = img.shape[:2]\n",
    "cv2.imwrite('Out1.jpg',img)"
   ]
  },
  {
   "cell_type": "code",
   "execution_count": 468,
   "metadata": {
    "collapsed": false
   },
   "outputs": [
    {
     "data": {
      "text/plain": [
       "2.5622060298919678"
      ]
     },
     "execution_count": 468,
     "metadata": {},
     "output_type": "execute_result"
    }
   ],
   "source": [
    "time.time()-start"
   ]
  }
 ],
 "metadata": {
  "anaconda-cloud": {},
  "kernelspec": {
   "display_name": "Python [default]",
   "language": "python",
   "name": "python3"
  },
  "language_info": {
   "codemirror_mode": {
    "name": "ipython",
    "version": 3
   },
   "file_extension": ".py",
   "mimetype": "text/x-python",
   "name": "python",
   "nbconvert_exporter": "python",
   "pygments_lexer": "ipython3",
   "version": "3.5.4"
  }
 },
 "nbformat": 4,
 "nbformat_minor": 1
}
